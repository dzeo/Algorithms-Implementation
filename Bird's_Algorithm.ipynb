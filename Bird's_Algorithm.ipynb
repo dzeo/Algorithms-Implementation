{
 "cells": [
  {
   "cell_type": "markdown",
   "metadata": {},
   "source": [
    "##  Implementation of  Bird's division-free algorithm for computing a determinant of a given matrix."
   ]
  },
  {
   "cell_type": "code",
   "execution_count": 170,
   "metadata": {},
   "outputs": [],
   "source": [
    "def upper_diag(M):\n",
    "    \"\"\"Given a matrix M, returns a matrix N with N[i,j] = M[i,j] if j>i, and zero  otherwise\n",
    "    \"\"\"\n",
    "    n = M.ncols()\n",
    "    N = matrix([[M[i,j] if j>i else 0  for j in range(n)] for i in range(n) ])\n",
    "    return N"
   ]
  },
  {
   "cell_type": "code",
   "execution_count": 171,
   "metadata": {},
   "outputs": [],
   "source": [
    "def progressive_sum(V):\n",
    "    \"\"\"Given a vector V, returns a vector whose last element is zero, and every other element \n",
    "    in the ith position is a sum of all elements of V with position greater than i\n",
    "    \"\"\"\n",
    "    Vprog = vector([sum(V[i:])  if i != len(V) else 0 for i in [1..len(V)]])\n",
    "    return Vprog"
   ]
  },
  {
   "cell_type": "code",
   "execution_count": 172,
   "metadata": {},
   "outputs": [],
   "source": [
    "def bird_det(M):\n",
    "    \"\"\"Given a matrix M, computes the deterninant, using Bird's Algorithm\"\"\"\n",
    "    assert M.is_square(), \"M must be a squre matrix\"\n",
    "    n = M.ncols()\n",
    "    A = M\n",
    "    for i in range(n-1):   \n",
    "        A_upper = upper_diag(A)\n",
    "        diag_prog_sum = progressive_sum(A.diagonal())\n",
    "        Abar = A_upper - matrix.diagonal(diag_prog_sum)\n",
    "        A = Abar*M\n",
    "        \n",
    "    return (-1)^(n-1)*A[0,0]\n",
    "    "
   ]
  },
  {
   "cell_type": "code",
   "execution_count": 256,
   "metadata": {},
   "outputs": [
    {
     "name": "stdout",
     "output_type": "stream",
     "text": [
      "Passed!\n"
     ]
    }
   ],
   "source": [
    "#Test \n",
    "for i in range(1000):\n",
    "    a= [RR.random_element() for j in [1..6]]\n",
    "    b= [RR.random_element() for j in [1..6]]\n",
    "    c= [RR.random_element() for j in [1..6]]\n",
    "    d= [RR.random_element() for j in [1..6]]\n",
    "    e= [RR.random_element() for j in [1..6]]\n",
    "    f= [RR.random_element() for j in [1..6]]\n",
    "    M = matrix([a,b,c,d,e,f])\n",
    "    \n",
    "    assert bird_det(M).round() == M.det().round(), f\"failed for {M}\"\n",
    "print(\"Passed!\")"
   ]
  },
  {
   "cell_type": "code",
   "execution_count": null,
   "metadata": {},
   "outputs": [],
   "source": []
  },
  {
   "cell_type": "code",
   "execution_count": null,
   "metadata": {},
   "outputs": [],
   "source": []
  }
 ],
 "metadata": {
  "kernelspec": {
   "display_name": "SageMath 9.2",
   "language": "sage",
   "name": "sagemath"
  },
  "language_info": {
   "codemirror_mode": {
    "name": "ipython",
    "version": 3
   },
   "file_extension": ".py",
   "mimetype": "text/x-python",
   "name": "python",
   "nbconvert_exporter": "python",
   "pygments_lexer": "ipython3",
   "version": "3.7.7"
  }
 },
 "nbformat": 4,
 "nbformat_minor": 4
}
