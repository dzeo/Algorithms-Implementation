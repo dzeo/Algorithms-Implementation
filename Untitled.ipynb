{
 "cells": [
  {
   "cell_type": "code",
   "execution_count": 1,
   "metadata": {},
   "outputs": [],
   "source": [
    "def polde(f,s):\n",
    "    P.<x>=PolynomialRing( QQ , 'x')\n",
    "    P=f.parent()\n",
    "    n=f.degree()\n",
    "    r=n/s\n",
    "    M=[]\n",
    "    H=[]\n",
    "    G=[]\n",
    "    for i in range(0,r+1):\n",
    "        q=x^(i*s)\n",
    "        M.append(q)\n",
    "    return M\n",
    "    for k in range(1,s):\n",
    "        d[k]=M[-1].list(n-k)\n",
    "        c=1/r*(f.list(n-k)-H[k])\n",
    "        H.append(d[k])\n",
    "        G.append(c)\n",
    "    return H,G\n",
    "    "
   ]
  },
  {
   "cell_type": "code",
   "execution_count": null,
   "metadata": {},
   "outputs": [],
   "source": [
    "\n",
    "A = matrix([[(h^j)[i*s] for j in range(r+1)] for i in range(r+1)])\n",
    "# a = vector([f[i] for i in range(r+1)])\n",
    "# try:\n",
    "#     b = A.inverse()*a\n",
    "# except:\n",
    "#     print(\"There is no decomposition\")\n",
    "    \n",
    "# g = P(b)\n",
    "\n",
    "if f == g(h):\n",
    "    return [g,h]\n",
    "else:\n",
    "    return(\"There is no decomposition\")"
   ]
  },
  {
   "cell_type": "code",
   "execution_count": 5,
   "metadata": {},
   "outputs": [],
   "source": [
    "P.<x> = RR[]"
   ]
  },
  {
   "cell_type": "code",
   "execution_count": 12,
   "metadata": {},
   "outputs": [
    {
     "data": {
      "text/html": [
       "<html><script type=\"math/tex; mode=display\">\\newcommand{\\Bold}[1]{\\mathbf{#1}}3.00000000000000 x^{2} + 0.000000000000000 x + 0.000000000000000</script></html>"
      ],
      "text/latex": [
       "\\begin{math}\n",
       "\\newcommand{\\Bold}[1]{\\mathbf{#1}}3.00000000000000 x^{2} + 0.000000000000000 x + 0.000000000000000\n",
       "\\end{math}"
      ],
      "text/plain": [
       "3.00000000000000*x^2"
      ]
     },
     "metadata": {},
     "output_type": "display_data"
    }
   ],
   "source": [
    "f = 3*x^2\n",
    "show(f)"
   ]
  },
  {
   "cell_type": "code",
   "execution_count": 13,
   "metadata": {},
   "outputs": [
    {
     "data": {
      "text/plain": [
       "2"
      ]
     },
     "execution_count": 13,
     "metadata": {},
     "output_type": "execute_result"
    }
   ],
   "source": [
    "f.degree()"
   ]
  },
  {
   "cell_type": "code",
   "execution_count": 9,
   "metadata": {},
   "outputs": [],
   "source": [
    "A = matrix([[2,3,4],[2,-3,1],[2,5,4]])"
   ]
  },
  {
   "cell_type": "code",
   "execution_count": 11,
   "metadata": {},
   "outputs": [
    {
     "data": {
      "text/plain": [
       "(43, 13, 49)"
      ]
     },
     "execution_count": 11,
     "metadata": {},
     "output_type": "execute_result"
    }
   ],
   "source": [
    "a = vector([9,3,4])\n",
    "A*a"
   ]
  },
  {
   "cell_type": "code",
   "execution_count": null,
   "metadata": {},
   "outputs": [],
   "source": []
  }
 ],
 "metadata": {
  "kernelspec": {
   "display_name": "SageMath 9.2",
   "language": "sage",
   "name": "sagemath"
  },
  "language_info": {
   "codemirror_mode": {
    "name": "ipython",
    "version": 3
   },
   "file_extension": ".py",
   "mimetype": "text/x-python",
   "name": "python",
   "nbconvert_exporter": "python",
   "pygments_lexer": "ipython3",
   "version": "3.7.7"
  }
 },
 "nbformat": 4,
 "nbformat_minor": 4
}
