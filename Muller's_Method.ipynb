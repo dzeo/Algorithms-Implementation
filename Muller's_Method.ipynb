{
 "cells": [
  {
   "cell_type": "code",
   "execution_count": 115,
   "metadata": {},
   "outputs": [],
   "source": [
    "def root(f, xs:(float, float, float), iter: int):\n",
    "    assert len(xs)==3, \"xs must have exactly three elements\"\n",
    "    assert type(iter) == Integer, \" iter must be an integer\"\n",
    "    P = f.parent\n",
    "    for _ in range(iter):\n",
    "        x0 = xs[0]\n",
    "        x_1 = xs[-2]\n",
    "        x_2 = xs[-1]\n",
    "        \n",
    "        q = (xs[0] - xs[-2])/ (xs[-2] - xs[-1])\n",
    "        A = q*f(xs[0]) - q*(1-q)*f(xs[-2]) + q^2*f(xs[-1])\n",
    "        B = (2*q+1)*f(xs[0]) - (1+q)^2*f(xs[-2]) + q^2*f(xs[-1])\n",
    "        C = (1+q)*f(xs[0])\n",
    "        delta = sqrt(B^2 - 4*A*C)\n",
    "        xi = xs[0] - (xs[0]-xs[-2])*(2*C)/max([B+delta, B-delta], key= abs)\n",
    "        xs.pop()\n",
    "        xs.insert(0, xi)\n",
    "    return (xs[0])\n",
    "        "
   ]
  },
  {
   "cell_type": "code",
   "execution_count": 116,
   "metadata": {},
   "outputs": [
    {
     "data": {
      "text/plain": [
       "(7+0j)"
      ]
     },
     "execution_count": 116,
     "metadata": {},
     "output_type": "execute_result"
    }
   ],
   "source": [
    "#Test\n",
    "P.<x> = RR[]\n",
    "f = P((x+3)*(x-7))\n",
    "root(f, [10, 20, 30], 10)"
   ]
  },
  {
   "cell_type": "code",
   "execution_count": 118,
   "metadata": {},
   "outputs": [
    {
     "data": {
      "text/html": [
       "<html><script type=\"math/tex; mode=display\">\\newcommand{\\Bold}[1]{\\mathbf{#1}}x^{2} + 0.000000000000000 x - 612.000000000000</script></html>"
      ],
      "text/latex": [
       "\\begin{math}\n",
       "\\newcommand{\\Bold}[1]{\\mathbf{#1}}x^{2} + 0.000000000000000 x - 612.000000000000\n",
       "\\end{math}"
      ],
      "text/plain": [
       "x^2 - 612.000000000000"
      ]
     },
     "metadata": {},
     "output_type": "display_data"
    },
    {
     "data": {
      "text/plain": [
       "(20.909983351745296+2.6439117763394266j)"
      ]
     },
     "execution_count": 118,
     "metadata": {},
     "output_type": "execute_result"
    }
   ],
   "source": [
    "# This\n",
    "P.<x> = RR[]\n",
    "f = P(x^2-612); show(f)\n",
    "root(f, [10, 20, 30], 5)"
   ]
  },
  {
   "cell_type": "code",
   "execution_count": 94,
   "metadata": {},
   "outputs": [
    {
     "name": "stdout",
     "output_type": "stream",
     "text": [
      "Root: 6.99994262042902 - 0.0000494534490542613*I\n"
     ]
    }
   ],
   "source": [
    "# from typing import *\n",
    "# from cmath import sqrt  # Use the complex sqrt as we may generate complex numbers\n",
    "\n",
    "# Num = Union[float, complex]\n",
    "# Func = Callable[[Num], Num]\n",
    "\n",
    "\n",
    "# def div_diff(f: Func, xs: List[Num]):\n",
    "#     \"\"\"Calculate the divided difference f[x0, x1, ...].\"\"\"\n",
    "#     if len(xs) == 2:\n",
    "#         a, b = xs\n",
    "#         return (f(a) - f(b)) / (a - b)\n",
    "#     else:\n",
    "#         return (div_diff(f, xs[1:]) - div_diff(f, xs[0:-1])) / (xs[-1] - xs[0])\n",
    "\n",
    "\n",
    "# def mullers_method(f: Func, xs: (Num, Num, Num), iterations: int) -> float:\n",
    "#     \"\"\"Return the root calculated using Muller's method.\"\"\"\n",
    "#     x0, x1, x2 = xs\n",
    "#     for _ in range(iterations):\n",
    "#         w = div_diff(f, (x2, x1)) + div_diff(f, (x2, x0)) - div_diff(f, (x2, x1))\n",
    "#         s_delta = sqrt(w ** 2 - 4 * f(x2) * div_diff(f, (x2, x1, x0)))\n",
    "#         denoms = [w + s_delta, w - s_delta]\n",
    "#         # Take the higher-magnitude denominator\n",
    "#         x3 = x2 - 2 * f(x2) / max(denoms, key=abs)\n",
    "#         # Advance\n",
    "#         x0, x1, x2 = x1, x2, x3\n",
    "#     return x3\n",
    "\n",
    "\n",
    "# def f_example(x: Num) -> Num:\n",
    "#     \"\"\"The example function. With a more expensive function, memoization of the last 4 points called may be useful.\"\"\"\n",
    "#     return x ** 2 - 612\n",
    "\n",
    "\n",
    "# root = mullers_method(f, (10, 20, 30), 10)\n",
    "# print(\"Root: {}\".format(root))  # Root: (24.738633317099097+0j)"
   ]
  },
  {
   "cell_type": "code",
   "execution_count": 119,
   "metadata": {},
   "outputs": [],
   "source": [
    "# Secant Method\n",
    "def secant_method(f, x0, x1, iterations):\n",
    "    \"\"\"Return the root calculated using the secant method.\"\"\"\n",
    "    for i in range(iterations):\n",
    "        x2 = x1 - f(x1) * (x1 - x0) / float(f(x1) - f(x0))\n",
    "        x0, x1 = x1, x2\n",
    "    return x2"
   ]
  },
  {
   "cell_type": "code",
   "execution_count": 120,
   "metadata": {},
   "outputs": [],
   "source": [
    "def f_example(x):\n",
    "    return x ** 2 - 612"
   ]
  },
  {
   "cell_type": "code",
   "execution_count": 122,
   "metadata": {},
   "outputs": [
    {
     "name": "stdout",
     "output_type": "stream",
     "text": [
      "Root: 24.7386337487507\n"
     ]
    }
   ],
   "source": [
    "root = secant_method(f, 10, 30, 5)\n",
    "\n",
    "print(\"Root: {}\".format(root))  # Root: 24.738633748750722"
   ]
  },
  {
   "cell_type": "code",
   "execution_count": null,
   "metadata": {},
   "outputs": [],
   "source": []
  }
 ],
 "metadata": {
  "kernelspec": {
   "display_name": "SageMath 9.2",
   "language": "sage",
   "name": "sagemath"
  },
  "language_info": {
   "codemirror_mode": {
    "name": "ipython",
    "version": 3
   },
   "file_extension": ".py",
   "mimetype": "text/x-python",
   "name": "python",
   "nbconvert_exporter": "python",
   "pygments_lexer": "ipython3",
   "version": "3.7.7"
  }
 },
 "nbformat": 4,
 "nbformat_minor": 4
}
