{
 "cells": [
  {
   "cell_type": "code",
   "execution_count": 12,
   "metadata": {},
   "outputs": [],
   "source": [
    "def is_square_free( f ) :\n",
    "    \"\"\"\n",
    "    This function checks if the polynomial `f` is square-free.\n",
    "    \"\"\"\n",
    "    if gcd(f,f.derivative()) == 1: \n",
    "        return True\n",
    "    else:\n",
    "        return False\n",
    "    \n",
    "    "
   ]
  },
  {
   "cell_type": "code",
   "execution_count": 13,
   "metadata": {},
   "outputs": [],
   "source": [
    "def VAS(p):\n",
    "    \"\"\"\n",
    "    Input: function p\n",
    "    Output: A list of intervals, isolating the roots of p, using \n",
    "            Vincent-Akritas-Strzeboński root counting and isolating algorithm.\n",
    "    \"\"\"\n",
    "    \n",
    "    L = [tuple((p(x), x)), tuple((p(-x), -x))]\n",
    "    isol = []\n",
    "    assert is_square_free( p ), \"the function has to be square free\"\n",
    "    \n",
    "    \n",
    "    while L:\n",
    "        for (A,M) in L:\n",
    "            L.remove((A,M))\n",
    "            v = count_var(A.list())\n",
    "            if v == 0:\n",
    "                continue\n",
    "            elif v ==1:\n",
    "                isol.append((tuple((M(0), M(infinity)))))\n",
    "                continue\n",
    "            b = 1\n",
    "            B = A(x+b)\n",
    "            w = v-count_var(B.list())\n",
    "            if B(0) == 0:           #rational root found\n",
    "                isol.append(((tuple((M(b), M(b))))))\n",
    "                B(x) = B(x)/x\n",
    "            L.append((tuple((B(x), M(b+x)))))\n",
    "            if w == 0:\n",
    "                continue\n",
    "            elif w ==1:\n",
    "                isol.append((tuple((M(0), M(b)))))\n",
    "            elif w > 1:\n",
    "                L.append((tuple((A(b/(1+x)), M(b/(1+x))))))\n",
    "                \n",
    "    return isol\n",
    "\n",
    "def count_var(L):\n",
    "    \"\"\"\n",
    "    Takes a list of rationals as input\n",
    "    Returns the number of variations in the signs of the numbers\n",
    "    \"\"\"\n",
    "    L =  [i for i in L if i != 0]\n",
    "    state = sign(L[0])\n",
    "    var_count=0\n",
    "    for i in L[1:]:\n",
    "        if sign(i)==state:\n",
    "            continue\n",
    "        else : \n",
    "            state = sign(i)\n",
    "            var_count+=1\n",
    "    return var_count   \n",
    "\n",
    "        \n",
    "        \n",
    "def sign(x):\n",
    "    \"\"\"takes a number as input\n",
    "    returns 0 if the number is negaive, and 1 if its positive\"\"\"\n",
    "    if x == 0:\n",
    "        return 1\n",
    "    else:\n",
    "        return 1-(x<=0) \n"
   ]
  },
  {
   "cell_type": "code",
   "execution_count": 14,
   "metadata": {},
   "outputs": [
    {
     "data": {
      "text/plain": [
       "(x - 3) * (x - 1) * (x + 5)"
      ]
     },
     "execution_count": 14,
     "metadata": {},
     "output_type": "execute_result"
    }
   ],
   "source": [
    "#test\n",
    "P.<x> = QQ[]\n",
    "f = P((x-1)*(x-3)*(x+5))#*(x-5))\n",
    "f.factor()"
   ]
  },
  {
   "cell_type": "code",
   "execution_count": 15,
   "metadata": {},
   "outputs": [
    {
     "data": {
      "text/plain": [
       "True"
      ]
     },
     "execution_count": 15,
     "metadata": {},
     "output_type": "execute_result"
    }
   ],
   "source": [
    "is_square_free( f )"
   ]
  },
  {
   "cell_type": "code",
   "execution_count": 16,
   "metadata": {},
   "outputs": [
    {
     "name": "stderr",
     "output_type": "stream",
     "text": [
      "/opt/sagemath-9.2/local/lib/python3.7/site-packages/sage/repl/ipython_kernel/__main__.py:1: DeprecationWarning: Substitution using function-call syntax and unnamed arguments is deprecated and will be removed from a future release of Sage; you can use named arguments instead, like EXPR(x=..., y=...)\n",
      "See http://trac.sagemath.org/5930 for details.\n",
      "  from ipykernel.kernelapp import IPKernelApp\n"
     ]
    },
    {
     "data": {
      "text/plain": [
       "[(1, 1), (0, 1), (0, -Infinity)]"
      ]
     },
     "execution_count": 16,
     "metadata": {},
     "output_type": "execute_result"
    }
   ],
   "source": [
    "VAS(f)"
   ]
  },
  {
   "cell_type": "code",
   "execution_count": null,
   "metadata": {},
   "outputs": [],
   "source": []
  },
  {
   "cell_type": "code",
   "execution_count": null,
   "metadata": {},
   "outputs": [],
   "source": []
  }
 ],
 "metadata": {
  "kernelspec": {
   "display_name": "SageMath 9.2",
   "language": "sage",
   "name": "sagemath"
  },
  "language_info": {
   "codemirror_mode": {
    "name": "ipython",
    "version": 3
   },
   "file_extension": ".py",
   "mimetype": "text/x-python",
   "name": "python",
   "nbconvert_exporter": "python",
   "pygments_lexer": "ipython3",
   "version": "3.7.7"
  }
 },
 "nbformat": 4,
 "nbformat_minor": 4
}
