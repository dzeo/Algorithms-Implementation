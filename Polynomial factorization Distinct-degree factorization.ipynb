{
 "cells": [
  {
   "cell_type": "code",
   "execution_count": 28,
   "metadata": {},
   "outputs": [],
   "source": [
    "def distinct_degree_factors(g):\n",
    "    \"\"\"Takes a polynomial and returns all its distinct-degree factors. f∈Fp[x]\n",
    "    \"\"\"\n",
    "    assert not g.is_constant(), \"f needs to be be a non constant polynomial\"\n",
    "    \n",
    "    lc = g.leading_coefficient()\n",
    "    g = g/lc   #make g monic\n",
    "    P = g.parent()\n",
    "    q = g.base_ring().characteristic()\n",
    "    fk = P(x)\n",
    "    gk = g\n",
    "    print(f\"fk : {fk}, and gk : {gk}\")\n",
    "    k = []\n",
    "    h = []\n",
    "    while not gk.is_constant():\n",
    "        fk = P((fk^q).mod(gk))\n",
    "        h.append(gcd(gk,fk-x))\n",
    "        print(h)\n",
    "        gk = P(gk/h[-1])\n",
    "        print(f\"gk :{gk}\")\n",
    "    return h\n",
    "    "
   ]
  },
  {
   "cell_type": "code",
   "execution_count": 29,
   "metadata": {},
   "outputs": [
    {
     "data": {
      "text/html": [
       "<html><script type=\"math/tex; mode=display\">\\newcommand{\\Bold}[1]{\\mathbf{#1}}x^{8} + 6 x^{7} + 5 x^{6} + x^{5} + 3 x^{4} + 4 x^{3} + 5 x^{2} + 6 x + 4</script></html>"
      ],
      "text/latex": [
       "\\begin{math}\n",
       "\\newcommand{\\Bold}[1]{\\mathbf{#1}}x^{8} + 6 x^{7} + 5 x^{6} + x^{5} + 3 x^{4} + 4 x^{3} + 5 x^{2} + 6 x + 4\n",
       "\\end{math}"
      ],
      "text/plain": [
       "x^8 + 6*x^7 + 5*x^6 + x^5 + 3*x^4 + 4*x^3 + 5*x^2 + 6*x + 4"
      ]
     },
     "metadata": {},
     "output_type": "display_data"
    },
    {
     "name": "stdout",
     "output_type": "stream",
     "text": [
      "fk : x, and gk : x^8 + 6*x^7 + 5*x^6 + x^5 + 3*x^4 + 4*x^3 + 5*x^2 + 6*x + 4\n",
      "[x^3 + 5*x^2 + 2*x + 6]\n",
      "gk :x^5 + x^4 + 5*x^3 + 3*x^2 + 3\n",
      "[x^3 + 5*x^2 + 2*x + 6, x^2 + x + 3]\n",
      "gk :x^3 + 2*x + 1\n",
      "[x^3 + 5*x^2 + 2*x + 6, x^2 + x + 3, x^3 + 2*x + 1]\n",
      "gk :1\n"
     ]
    },
    {
     "data": {
      "text/plain": [
       "[x^3 + 5*x^2 + 2*x + 6, x^2 + x + 3, x^3 + 2*x + 1]"
      ]
     },
     "execution_count": 29,
     "metadata": {},
     "output_type": "execute_result"
    }
   ],
   "source": [
    "#Test\n",
    "P.<x> = GF(7)[]\n",
    "f = P([4,6,5,4,3,1,5,6,1])\n",
    "show(f)\n",
    "distinct_degree_factors(f)"
   ]
  }
 ],
 "metadata": {
  "kernelspec": {
   "display_name": "SageMath 9.2",
   "language": "sage",
   "name": "sagemath"
  },
  "language_info": {
   "codemirror_mode": {
    "name": "ipython",
    "version": 3
   },
   "file_extension": ".py",
   "mimetype": "text/x-python",
   "name": "python",
   "nbconvert_exporter": "python",
   "pygments_lexer": "ipython3",
   "version": "3.7.7"
  }
 },
 "nbformat": 4,
 "nbformat_minor": 4
}
